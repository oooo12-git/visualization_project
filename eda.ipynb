{
 "cells": [
  {
   "cell_type": "code",
   "execution_count": null,
   "metadata": {},
   "outputs": [],
   "source": [
    "import pandas as pd"
   ]
  },
  {
   "cell_type": "code",
   "execution_count": null,
   "metadata": {},
   "outputs": [],
   "source": [
    "df = pd.read_csv(\"traffic-acc-data/10_22_stt.csv\", encoding='euc-kr')"
   ]
  },
  {
   "cell_type": "code",
   "execution_count": null,
   "metadata": {},
   "outputs": [],
   "source": [
    "df"
   ]
  },
  {
   "cell_type": "code",
   "execution_count": null,
   "metadata": {},
   "outputs": [],
   "source": [
    "df_oldman = pd.read_csv(\"traffic-acc-data/12_22_oldman.csv\", encoding='euc-kr')"
   ]
  },
  {
   "cell_type": "code",
   "execution_count": null,
   "metadata": {},
   "outputs": [],
   "source": [
    "df_oldman"
   ]
  },
  {
   "cell_type": "code",
   "execution_count": 3,
   "metadata": {},
   "outputs": [],
   "source": [
    "df_death = pd.read_csv(\"traffic-acc-data/12_23_death.csv\", encoding='euc-kr')"
   ]
  },
  {
   "cell_type": "code",
   "execution_count": null,
   "metadata": {},
   "outputs": [],
   "source": [
    "df_death.head()"
   ]
  },
  {
   "cell_type": "code",
   "execution_count": null,
   "metadata": {},
   "outputs": [],
   "source": [
    "df_death[\"발생년\"].unique()"
   ]
  },
  {
   "cell_type": "code",
   "execution_count": null,
   "metadata": {},
   "outputs": [],
   "source": [
    "df_alone = df_death[df_death[\"사고유형_대분류\"]==\"차량단독\"]"
   ]
  },
  {
   "cell_type": "code",
   "execution_count": null,
   "metadata": {},
   "outputs": [],
   "source": [
    "df_alone"
   ]
  },
  {
   "cell_type": "code",
   "execution_count": null,
   "metadata": {},
   "outputs": [],
   "source": [
    "df_car_person = df_death[df_death[\"사고유형_대분류\"]==\"차대사람\"]"
   ]
  },
  {
   "cell_type": "code",
   "execution_count": null,
   "metadata": {},
   "outputs": [],
   "source": [
    "df_car_person"
   ]
  },
  {
   "cell_type": "code",
   "execution_count": null,
   "metadata": {},
   "outputs": [],
   "source": [
    "len(df_death[df_death[\"사고유형_대분류\"]==\"차대사람\"])/len(df_death)"
   ]
  },
  {
   "cell_type": "code",
   "execution_count": null,
   "metadata": {},
   "outputs": [],
   "source": [
    "import plotly.express as px"
   ]
  },
  {
   "cell_type": "code",
   "execution_count": null,
   "metadata": {},
   "outputs": [],
   "source": [
    "fig = px.scatter_mapbox(\n",
    "    df_car_person,\n",
    "    lat='위도',\n",
    "    lon='경도',\n",
    "    size='사망자수',  # 사망사고 수에 따라 크기 조정\n",
    "    color='사고유형',  # 사망사고 수에 따라 색상 변경\n",
    "    hover_name='사망자수',  # 마우스 오버시 사망사고 수 표시\n",
    "    zoom=10,  # 지도 확대 정도\n",
    "    mapbox_style=\"open-street-map\"  # 지도 스타일\n",
    ")\n",
    "fig.show()"
   ]
  },
  {
   "cell_type": "code",
   "execution_count": null,
   "metadata": {},
   "outputs": [],
   "source": [
    "fig = px.density_mapbox(\n",
    "    df_car_person,\n",
    "    lat='위도',\n",
    "    lon='경도',\n",
    "    z='사망자수',  # 히트맵의 색상 강도를 결정하는 값\n",
    "    radius=10,  # 히트맵의 반경 크기 조정 (단위: 픽셀)\n",
    "    center=dict(lat=37.5665, lon=126.9780),  # 지도의 중심\n",
    "    zoom=12,  # 지도 확대 정도\n",
    "    mapbox_style=\"open-street-map\"  # 지도 스타일 (여러 스타일 사용 가능)\n",
    ")\n",
    "fig.show()"
   ]
  },
  {
   "cell_type": "markdown",
   "metadata": {},
   "source": [
    "### 차대사람 교통사고 사망자 비율(전체 대비) 낮아지고 있음\n",
    "- 차대차 사망자가 늘고 있기 때문일 수 있다.\n",
    "    - 즉, 차량의 안정성 증가  \n",
    "- 차대사람 사망자가 감소할 수 있다."
   ]
  },
  {
   "cell_type": "code",
   "execution_count": null,
   "metadata": {},
   "outputs": [],
   "source": [
    "car_person_ratio = {}\n",
    "for i in range(2012,2024):\n",
    "    car_person_ratio[i] = len(df_car_person[df_car_person['발생년']==i])/len(df_death[df_death['발생년']==i])\n",
    "\n",
    "car_person_ratio"
   ]
  },
  {
   "cell_type": "code",
   "execution_count": null,
   "metadata": {},
   "outputs": [],
   "source": [
    "df_car_person_ratio = pd.DataFrame(list(car_person_ratio.items()), columns=['연도', '비율'])\n",
    "df_car_person_ratio"
   ]
  },
  {
   "cell_type": "code",
   "execution_count": null,
   "metadata": {},
   "outputs": [],
   "source": [
    "fig = px.line(df_car_person_ratio, x='연도', y='비율', title='연도별 차대사람 교통사고 사망자 비율 변화')\n",
    "\n",
    "# 그래프 보여주기\n",
    "fig.show()"
   ]
  },
  {
   "cell_type": "code",
   "execution_count": null,
   "metadata": {},
   "outputs": [],
   "source": [
    "accident_type_counts = df_car_person['사고유형'].value_counts().reset_index()"
   ]
  },
  {
   "cell_type": "code",
   "execution_count": null,
   "metadata": {},
   "outputs": [],
   "source": [
    "accident_type_counts"
   ]
  },
  {
   "cell_type": "code",
   "execution_count": null,
   "metadata": {},
   "outputs": [],
   "source": [
    "fig = px.bar(accident_type_counts, x='사고유형', y='count', \n",
    "             title='사고유형 별 빈도', labels={'사고유형':'사고 유형', 'count':'빈도 수'})\n",
    "\n",
    "# 그래프 보여주기\n",
    "fig.show()"
   ]
  },
  {
   "cell_type": "code",
   "execution_count": null,
   "metadata": {},
   "outputs": [],
   "source": [
    "df_across = df_car_person[df_car_person['사고유형']=='횡단중']"
   ]
  },
  {
   "cell_type": "code",
   "execution_count": null,
   "metadata": {},
   "outputs": [],
   "source": [
    "df_across"
   ]
  },
  {
   "cell_type": "code",
   "execution_count": null,
   "metadata": {},
   "outputs": [],
   "source": [
    "df_crossroads=df_across[df_across['도로형태_대분류']=='교차로']"
   ]
  },
  {
   "cell_type": "code",
   "execution_count": null,
   "metadata": {},
   "outputs": [],
   "source": [
    "df_crossroads"
   ]
  },
  {
   "cell_type": "code",
   "execution_count": null,
   "metadata": {},
   "outputs": [],
   "source": [
    "df_crossroads[df_crossroads['발생년']==2023].sort_values('발생년월일시').tail(7)"
   ]
  },
  {
   "cell_type": "code",
   "execution_count": null,
   "metadata": {},
   "outputs": [],
   "source": [
    "df_crossroads.loc[44791,['발생년월일시','발생지시도','발생지시군구','도로형태']]"
   ]
  },
  {
   "cell_type": "markdown",
   "metadata": {},
   "source": [
    "### 안전운전의무불이행에 의한 사망사고는 전부 무단횡단인가?\n",
    "- 횡단중 사고 중 교차로 사고에 의한 사망인 경우\n",
    "- 안전운전의무불이행인 경우가 57%\n",
    "- 안전운전의무불이행은...\n",
    "    - 안전운전의무란 말 그대로 자동차를 운전하는데 있어서 “안전하게” 운전할 의무가 있다는 것인데, \n",
    "    - 도로교통법 등에서 별도로 규정하고 있는 사항(예: 교차로 통행방법위반, 제차신호위반)이 아닌 경우 포괄적으로 적용하기 위한 조항\n",
    "    - 예를 들면 전방주시를 제대로 하지 않았다, 졸음운전을 하였다, 브레이크를 밟아야하는데 엑셀을 밟았다는 등의 경우\n",
    "        - [참고 자료](http://kindlawyer2020.cafe24.com/bbs/board.php?bo_table=column&wr_id=132&page=27) \n",
    "    - 안전운전의무불이행은 전방주시태만, 운전 중 휴대전화 사용, 운전미숙 등 다른 사람에게 위험과 장해를 초래할 수 있는 위험한 운전 행위\n",
    "        - 출처 : 충청투데이(https://www.cctoday.co.kr)\n",
    "- 무단횡단자와 사고시 안전운전의무불이행으로..\n",
    "    - https://www.ytn.co.kr/_ln/0134_202301092100013149\n",
    "    - https://www.inews24.com/view/1731445"
   ]
  },
  {
   "cell_type": "code",
   "execution_count": null,
   "metadata": {},
   "outputs": [],
   "source": [
    "df_safety_duty = df_crossroads[df_crossroads['법규위반']=='안전운전 의무 불이행']"
   ]
  },
  {
   "cell_type": "code",
   "execution_count": null,
   "metadata": {},
   "outputs": [],
   "source": [
    "df_safety_duty"
   ]
  },
  {
   "cell_type": "markdown",
   "metadata": {},
   "source": [
    "### 횡단보도에서 횡단하다가 사망한 사람은 많지 않은 편"
   ]
  },
  {
   "cell_type": "code",
   "execution_count": null,
   "metadata": {},
   "outputs": [],
   "source": [
    "df_across['도로형태'].value_counts(normalize=True) * 100"
   ]
  },
  {
   "cell_type": "code",
   "execution_count": null,
   "metadata": {},
   "outputs": [],
   "source": [
    "df_across['도로형태'].value_counts()"
   ]
  },
  {
   "cell_type": "code",
   "execution_count": null,
   "metadata": {},
   "outputs": [],
   "source": []
  }
 ],
 "metadata": {
  "kernelspec": {
   "display_name": "snu-python-programming",
   "language": "python",
   "name": "python3"
  },
  "language_info": {
   "codemirror_mode": {
    "name": "ipython",
    "version": 3
   },
   "file_extension": ".py",
   "mimetype": "text/x-python",
   "name": "python",
   "nbconvert_exporter": "python",
   "pygments_lexer": "ipython3",
   "version": "3.10.13"
  }
 },
 "nbformat": 4,
 "nbformat_minor": 2
}
